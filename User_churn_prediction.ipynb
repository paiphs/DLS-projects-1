{
  "nbformat": 4,
  "nbformat_minor": 0,
  "metadata": {
    "kernelspec": {
      "display_name": "Python 3",
      "language": "python",
      "name": "python3"
    },
    "language_info": {
      "codemirror_mode": {
        "name": "ipython",
        "version": 3
      },
      "file_extension": ".py",
      "mimetype": "text/x-python",
      "name": "python",
      "nbconvert_exporter": "python",
      "pygments_lexer": "ipython3",
      "version": "3.7.4"
    },
    "colab": {
      "provenance": [],
      "collapsed_sections": [
        "ninJ63mJEEYt"
      ]
    }
  },
  "cells": [
    {
      "cell_type": "markdown",
      "source": [
        "В данной задаче предстоит моделировать отток клиентов телеком компании.\n",
        "\n",
        "**train.csv** - содержит колонки признаков и целевую переменную\\\n",
        "**test.csv** - содержит только колонки признаков\n",
        "\n",
        "В качестве метрики на kaggle используется **ROC-AUC**."
      ],
      "metadata": {
        "id": "ZeVMYcQIB7rn"
      }
    },
    {
      "cell_type": "code",
      "metadata": {
        "id": "lzLqEeZKEEYz"
      },
      "source": [
        "import pandas as pd\n",
        "import numpy as np\n",
        "from matplotlib import pyplot as plt\n",
        "import seaborn as sns"
      ],
      "execution_count": null,
      "outputs": []
    },
    {
      "cell_type": "markdown",
      "metadata": {
        "id": "LOlxdURSEEY3"
      },
      "source": [
        "## Загрузка данных"
      ]
    },
    {
      "cell_type": "markdown",
      "source": [
        "1) Изучим данные, распределения категориальных и числовых признаков\\\n",
        "2) Заменим незаполненные значения в данных"
      ],
      "metadata": {
        "id": "CDHVTJJ4Szyf"
      }
    },
    {
      "cell_type": "code",
      "source": [
        "from google.colab import drive\n",
        "drive.mount('/content/drive')"
      ],
      "metadata": {
        "colab": {
          "base_uri": "https://localhost:8080/"
        },
        "id": "VwNfiU9_tdXz",
        "outputId": "26941927-1f2d-4b45-85ab-d26f2b974963"
      },
      "execution_count": null,
      "outputs": [
        {
          "output_type": "stream",
          "name": "stdout",
          "text": [
            "Mounted at /content/drive\n"
          ]
        }
      ]
    },
    {
      "cell_type": "code",
      "metadata": {
        "id": "pw-Brue9EEY3",
        "colab": {
          "base_uri": "https://localhost:8080/",
          "height": 645
        },
        "outputId": "2a6671b2-4eeb-4adc-87c3-762188bea05e"
      },
      "source": [
        "data1 = pd.read_csv('./train.csv')\n",
        "data2 = pd.read_csv('./test.csv')\n",
        "data = pd.concat([data1, data2], ignore_index=True)\n",
        "print(data.shape)\n",
        "data.head(-1)"
      ],
      "execution_count": null,
      "outputs": [
        {
          "output_type": "stream",
          "name": "stdout",
          "text": [
            "(7043, 20)\n"
          ]
        },
        {
          "output_type": "execute_result",
          "data": {
            "text/plain": [
              "      ClientPeriod  MonthlySpending TotalSpent     Sex  IsSeniorCitizen  \\\n",
              "0               55            19.50    1026.35    Male                0   \n",
              "1               72            25.85     1872.2    Male                0   \n",
              "2                1            75.90       75.9    Male                0   \n",
              "3               32            79.30       2570  Female                1   \n",
              "4               60           115.25    6758.45  Female                0   \n",
              "...            ...              ...        ...     ...              ...   \n",
              "7037            13            55.15      742.9  Female                0   \n",
              "7038            71           105.15       7555  Female                0   \n",
              "7039            13            20.85     272.35  Female                0   \n",
              "7040             2            91.45     171.45    Male                0   \n",
              "7041            19            89.10     1620.8  Female                0   \n",
              "\n",
              "     HasPartner HasChild HasPhoneService HasMultiplePhoneNumbers  \\\n",
              "0           Yes      Yes             Yes                      No   \n",
              "1           Yes       No             Yes                     Yes   \n",
              "2            No       No             Yes                      No   \n",
              "3           Yes       No             Yes                     Yes   \n",
              "4           Yes      Yes             Yes                     Yes   \n",
              "...         ...      ...             ...                     ...   \n",
              "7037         No       No             Yes                      No   \n",
              "7038        Yes       No             Yes                     Yes   \n",
              "7039        Yes      Yes             Yes                      No   \n",
              "7040        Yes       No             Yes                     Yes   \n",
              "7041        Yes       No             Yes                     Yes   \n",
              "\n",
              "     HasInternetService HasOnlineSecurityService      HasOnlineBackup  \\\n",
              "0                    No      No internet service  No internet service   \n",
              "1                    No      No internet service  No internet service   \n",
              "2           Fiber optic                       No                   No   \n",
              "3           Fiber optic                       No                   No   \n",
              "4           Fiber optic                      Yes                  Yes   \n",
              "...                 ...                      ...                  ...   \n",
              "7037                DSL                      Yes                   No   \n",
              "7038        Fiber optic                       No                  Yes   \n",
              "7039                 No      No internet service  No internet service   \n",
              "7040        Fiber optic                       No                   No   \n",
              "7041        Fiber optic                       No                  Yes   \n",
              "\n",
              "      HasDeviceProtection HasTechSupportAccess          HasOnlineTV  \\\n",
              "0     No internet service  No internet service  No internet service   \n",
              "1     No internet service  No internet service  No internet service   \n",
              "2                      No                  Yes                   No   \n",
              "3                     Yes                   No                   No   \n",
              "4                     Yes                  Yes                  Yes   \n",
              "...                   ...                  ...                  ...   \n",
              "7037                   No                  Yes                   No   \n",
              "7038                  Yes                   No                  Yes   \n",
              "7039  No internet service  No internet service  No internet service   \n",
              "7040                  Yes                   No                  Yes   \n",
              "7041                   No                   No                   No   \n",
              "\n",
              "     HasMovieSubscription HasContractPhone IsBillingPaperless  \\\n",
              "0     No internet service         One year                 No   \n",
              "1     No internet service         Two year                 No   \n",
              "2                      No   Month-to-month                Yes   \n",
              "3                      No   Month-to-month                 No   \n",
              "4                     Yes         Two year                 No   \n",
              "...                   ...              ...                ...   \n",
              "7037                   No         One year                 No   \n",
              "7038                  Yes         Two year                Yes   \n",
              "7039  No internet service         Two year                 No   \n",
              "7040                   No   Month-to-month                Yes   \n",
              "7041                  Yes   Month-to-month                Yes   \n",
              "\n",
              "                  PaymentMethod  Churn  \n",
              "0                  Mailed check    0.0  \n",
              "1       Credit card (automatic)    0.0  \n",
              "2              Electronic check    1.0  \n",
              "3                  Mailed check    0.0  \n",
              "4       Credit card (automatic)    0.0  \n",
              "...                         ...    ...  \n",
              "7037               Mailed check    NaN  \n",
              "7038  Bank transfer (automatic)    NaN  \n",
              "7039               Mailed check    NaN  \n",
              "7040           Electronic check    NaN  \n",
              "7041           Electronic check    NaN  \n",
              "\n",
              "[7042 rows x 20 columns]"
            ],
            "text/html": [
              "\n",
              "  <div id=\"df-0227a123-3851-432b-ae1e-59703df04ec1\">\n",
              "    <div class=\"colab-df-container\">\n",
              "      <div>\n",
              "<style scoped>\n",
              "    .dataframe tbody tr th:only-of-type {\n",
              "        vertical-align: middle;\n",
              "    }\n",
              "\n",
              "    .dataframe tbody tr th {\n",
              "        vertical-align: top;\n",
              "    }\n",
              "\n",
              "    .dataframe thead th {\n",
              "        text-align: right;\n",
              "    }\n",
              "</style>\n",
              "<table border=\"1\" class=\"dataframe\">\n",
              "  <thead>\n",
              "    <tr style=\"text-align: right;\">\n",
              "      <th></th>\n",
              "      <th>ClientPeriod</th>\n",
              "      <th>MonthlySpending</th>\n",
              "      <th>TotalSpent</th>\n",
              "      <th>Sex</th>\n",
              "      <th>IsSeniorCitizen</th>\n",
              "      <th>HasPartner</th>\n",
              "      <th>HasChild</th>\n",
              "      <th>HasPhoneService</th>\n",
              "      <th>HasMultiplePhoneNumbers</th>\n",
              "      <th>HasInternetService</th>\n",
              "      <th>HasOnlineSecurityService</th>\n",
              "      <th>HasOnlineBackup</th>\n",
              "      <th>HasDeviceProtection</th>\n",
              "      <th>HasTechSupportAccess</th>\n",
              "      <th>HasOnlineTV</th>\n",
              "      <th>HasMovieSubscription</th>\n",
              "      <th>HasContractPhone</th>\n",
              "      <th>IsBillingPaperless</th>\n",
              "      <th>PaymentMethod</th>\n",
              "      <th>Churn</th>\n",
              "    </tr>\n",
              "  </thead>\n",
              "  <tbody>\n",
              "    <tr>\n",
              "      <th>0</th>\n",
              "      <td>55</td>\n",
              "      <td>19.50</td>\n",
              "      <td>1026.35</td>\n",
              "      <td>Male</td>\n",
              "      <td>0</td>\n",
              "      <td>Yes</td>\n",
              "      <td>Yes</td>\n",
              "      <td>Yes</td>\n",
              "      <td>No</td>\n",
              "      <td>No</td>\n",
              "      <td>No internet service</td>\n",
              "      <td>No internet service</td>\n",
              "      <td>No internet service</td>\n",
              "      <td>No internet service</td>\n",
              "      <td>No internet service</td>\n",
              "      <td>No internet service</td>\n",
              "      <td>One year</td>\n",
              "      <td>No</td>\n",
              "      <td>Mailed check</td>\n",
              "      <td>0.0</td>\n",
              "    </tr>\n",
              "    <tr>\n",
              "      <th>1</th>\n",
              "      <td>72</td>\n",
              "      <td>25.85</td>\n",
              "      <td>1872.2</td>\n",
              "      <td>Male</td>\n",
              "      <td>0</td>\n",
              "      <td>Yes</td>\n",
              "      <td>No</td>\n",
              "      <td>Yes</td>\n",
              "      <td>Yes</td>\n",
              "      <td>No</td>\n",
              "      <td>No internet service</td>\n",
              "      <td>No internet service</td>\n",
              "      <td>No internet service</td>\n",
              "      <td>No internet service</td>\n",
              "      <td>No internet service</td>\n",
              "      <td>No internet service</td>\n",
              "      <td>Two year</td>\n",
              "      <td>No</td>\n",
              "      <td>Credit card (automatic)</td>\n",
              "      <td>0.0</td>\n",
              "    </tr>\n",
              "    <tr>\n",
              "      <th>2</th>\n",
              "      <td>1</td>\n",
              "      <td>75.90</td>\n",
              "      <td>75.9</td>\n",
              "      <td>Male</td>\n",
              "      <td>0</td>\n",
              "      <td>No</td>\n",
              "      <td>No</td>\n",
              "      <td>Yes</td>\n",
              "      <td>No</td>\n",
              "      <td>Fiber optic</td>\n",
              "      <td>No</td>\n",
              "      <td>No</td>\n",
              "      <td>No</td>\n",
              "      <td>Yes</td>\n",
              "      <td>No</td>\n",
              "      <td>No</td>\n",
              "      <td>Month-to-month</td>\n",
              "      <td>Yes</td>\n",
              "      <td>Electronic check</td>\n",
              "      <td>1.0</td>\n",
              "    </tr>\n",
              "    <tr>\n",
              "      <th>3</th>\n",
              "      <td>32</td>\n",
              "      <td>79.30</td>\n",
              "      <td>2570</td>\n",
              "      <td>Female</td>\n",
              "      <td>1</td>\n",
              "      <td>Yes</td>\n",
              "      <td>No</td>\n",
              "      <td>Yes</td>\n",
              "      <td>Yes</td>\n",
              "      <td>Fiber optic</td>\n",
              "      <td>No</td>\n",
              "      <td>No</td>\n",
              "      <td>Yes</td>\n",
              "      <td>No</td>\n",
              "      <td>No</td>\n",
              "      <td>No</td>\n",
              "      <td>Month-to-month</td>\n",
              "      <td>No</td>\n",
              "      <td>Mailed check</td>\n",
              "      <td>0.0</td>\n",
              "    </tr>\n",
              "    <tr>\n",
              "      <th>4</th>\n",
              "      <td>60</td>\n",
              "      <td>115.25</td>\n",
              "      <td>6758.45</td>\n",
              "      <td>Female</td>\n",
              "      <td>0</td>\n",
              "      <td>Yes</td>\n",
              "      <td>Yes</td>\n",
              "      <td>Yes</td>\n",
              "      <td>Yes</td>\n",
              "      <td>Fiber optic</td>\n",
              "      <td>Yes</td>\n",
              "      <td>Yes</td>\n",
              "      <td>Yes</td>\n",
              "      <td>Yes</td>\n",
              "      <td>Yes</td>\n",
              "      <td>Yes</td>\n",
              "      <td>Two year</td>\n",
              "      <td>No</td>\n",
              "      <td>Credit card (automatic)</td>\n",
              "      <td>0.0</td>\n",
              "    </tr>\n",
              "    <tr>\n",
              "      <th>...</th>\n",
              "      <td>...</td>\n",
              "      <td>...</td>\n",
              "      <td>...</td>\n",
              "      <td>...</td>\n",
              "      <td>...</td>\n",
              "      <td>...</td>\n",
              "      <td>...</td>\n",
              "      <td>...</td>\n",
              "      <td>...</td>\n",
              "      <td>...</td>\n",
              "      <td>...</td>\n",
              "      <td>...</td>\n",
              "      <td>...</td>\n",
              "      <td>...</td>\n",
              "      <td>...</td>\n",
              "      <td>...</td>\n",
              "      <td>...</td>\n",
              "      <td>...</td>\n",
              "      <td>...</td>\n",
              "      <td>...</td>\n",
              "    </tr>\n",
              "    <tr>\n",
              "      <th>7037</th>\n",
              "      <td>13</td>\n",
              "      <td>55.15</td>\n",
              "      <td>742.9</td>\n",
              "      <td>Female</td>\n",
              "      <td>0</td>\n",
              "      <td>No</td>\n",
              "      <td>No</td>\n",
              "      <td>Yes</td>\n",
              "      <td>No</td>\n",
              "      <td>DSL</td>\n",
              "      <td>Yes</td>\n",
              "      <td>No</td>\n",
              "      <td>No</td>\n",
              "      <td>Yes</td>\n",
              "      <td>No</td>\n",
              "      <td>No</td>\n",
              "      <td>One year</td>\n",
              "      <td>No</td>\n",
              "      <td>Mailed check</td>\n",
              "      <td>NaN</td>\n",
              "    </tr>\n",
              "    <tr>\n",
              "      <th>7038</th>\n",
              "      <td>71</td>\n",
              "      <td>105.15</td>\n",
              "      <td>7555</td>\n",
              "      <td>Female</td>\n",
              "      <td>0</td>\n",
              "      <td>Yes</td>\n",
              "      <td>No</td>\n",
              "      <td>Yes</td>\n",
              "      <td>Yes</td>\n",
              "      <td>Fiber optic</td>\n",
              "      <td>No</td>\n",
              "      <td>Yes</td>\n",
              "      <td>Yes</td>\n",
              "      <td>No</td>\n",
              "      <td>Yes</td>\n",
              "      <td>Yes</td>\n",
              "      <td>Two year</td>\n",
              "      <td>Yes</td>\n",
              "      <td>Bank transfer (automatic)</td>\n",
              "      <td>NaN</td>\n",
              "    </tr>\n",
              "    <tr>\n",
              "      <th>7039</th>\n",
              "      <td>13</td>\n",
              "      <td>20.85</td>\n",
              "      <td>272.35</td>\n",
              "      <td>Female</td>\n",
              "      <td>0</td>\n",
              "      <td>Yes</td>\n",
              "      <td>Yes</td>\n",
              "      <td>Yes</td>\n",
              "      <td>No</td>\n",
              "      <td>No</td>\n",
              "      <td>No internet service</td>\n",
              "      <td>No internet service</td>\n",
              "      <td>No internet service</td>\n",
              "      <td>No internet service</td>\n",
              "      <td>No internet service</td>\n",
              "      <td>No internet service</td>\n",
              "      <td>Two year</td>\n",
              "      <td>No</td>\n",
              "      <td>Mailed check</td>\n",
              "      <td>NaN</td>\n",
              "    </tr>\n",
              "    <tr>\n",
              "      <th>7040</th>\n",
              "      <td>2</td>\n",
              "      <td>91.45</td>\n",
              "      <td>171.45</td>\n",
              "      <td>Male</td>\n",
              "      <td>0</td>\n",
              "      <td>Yes</td>\n",
              "      <td>No</td>\n",
              "      <td>Yes</td>\n",
              "      <td>Yes</td>\n",
              "      <td>Fiber optic</td>\n",
              "      <td>No</td>\n",
              "      <td>No</td>\n",
              "      <td>Yes</td>\n",
              "      <td>No</td>\n",
              "      <td>Yes</td>\n",
              "      <td>No</td>\n",
              "      <td>Month-to-month</td>\n",
              "      <td>Yes</td>\n",
              "      <td>Electronic check</td>\n",
              "      <td>NaN</td>\n",
              "    </tr>\n",
              "    <tr>\n",
              "      <th>7041</th>\n",
              "      <td>19</td>\n",
              "      <td>89.10</td>\n",
              "      <td>1620.8</td>\n",
              "      <td>Female</td>\n",
              "      <td>0</td>\n",
              "      <td>Yes</td>\n",
              "      <td>No</td>\n",
              "      <td>Yes</td>\n",
              "      <td>Yes</td>\n",
              "      <td>Fiber optic</td>\n",
              "      <td>No</td>\n",
              "      <td>Yes</td>\n",
              "      <td>No</td>\n",
              "      <td>No</td>\n",
              "      <td>No</td>\n",
              "      <td>Yes</td>\n",
              "      <td>Month-to-month</td>\n",
              "      <td>Yes</td>\n",
              "      <td>Electronic check</td>\n",
              "      <td>NaN</td>\n",
              "    </tr>\n",
              "  </tbody>\n",
              "</table>\n",
              "<p>7042 rows × 20 columns</p>\n",
              "</div>\n",
              "      <button class=\"colab-df-convert\" onclick=\"convertToInteractive('df-0227a123-3851-432b-ae1e-59703df04ec1')\"\n",
              "              title=\"Convert this dataframe to an interactive table.\"\n",
              "              style=\"display:none;\">\n",
              "        \n",
              "  <svg xmlns=\"http://www.w3.org/2000/svg\" height=\"24px\"viewBox=\"0 0 24 24\"\n",
              "       width=\"24px\">\n",
              "    <path d=\"M0 0h24v24H0V0z\" fill=\"none\"/>\n",
              "    <path d=\"M18.56 5.44l.94 2.06.94-2.06 2.06-.94-2.06-.94-.94-2.06-.94 2.06-2.06.94zm-11 1L8.5 8.5l.94-2.06 2.06-.94-2.06-.94L8.5 2.5l-.94 2.06-2.06.94zm10 10l.94 2.06.94-2.06 2.06-.94-2.06-.94-.94-2.06-.94 2.06-2.06.94z\"/><path d=\"M17.41 7.96l-1.37-1.37c-.4-.4-.92-.59-1.43-.59-.52 0-1.04.2-1.43.59L10.3 9.45l-7.72 7.72c-.78.78-.78 2.05 0 2.83L4 21.41c.39.39.9.59 1.41.59.51 0 1.02-.2 1.41-.59l7.78-7.78 2.81-2.81c.8-.78.8-2.07 0-2.86zM5.41 20L4 18.59l7.72-7.72 1.47 1.35L5.41 20z\"/>\n",
              "  </svg>\n",
              "      </button>\n",
              "      \n",
              "  <style>\n",
              "    .colab-df-container {\n",
              "      display:flex;\n",
              "      flex-wrap:wrap;\n",
              "      gap: 12px;\n",
              "    }\n",
              "\n",
              "    .colab-df-convert {\n",
              "      background-color: #E8F0FE;\n",
              "      border: none;\n",
              "      border-radius: 50%;\n",
              "      cursor: pointer;\n",
              "      display: none;\n",
              "      fill: #1967D2;\n",
              "      height: 32px;\n",
              "      padding: 0 0 0 0;\n",
              "      width: 32px;\n",
              "    }\n",
              "\n",
              "    .colab-df-convert:hover {\n",
              "      background-color: #E2EBFA;\n",
              "      box-shadow: 0px 1px 2px rgba(60, 64, 67, 0.3), 0px 1px 3px 1px rgba(60, 64, 67, 0.15);\n",
              "      fill: #174EA6;\n",
              "    }\n",
              "\n",
              "    [theme=dark] .colab-df-convert {\n",
              "      background-color: #3B4455;\n",
              "      fill: #D2E3FC;\n",
              "    }\n",
              "\n",
              "    [theme=dark] .colab-df-convert:hover {\n",
              "      background-color: #434B5C;\n",
              "      box-shadow: 0px 1px 3px 1px rgba(0, 0, 0, 0.15);\n",
              "      filter: drop-shadow(0px 1px 2px rgba(0, 0, 0, 0.3));\n",
              "      fill: #FFFFFF;\n",
              "    }\n",
              "  </style>\n",
              "\n",
              "      <script>\n",
              "        const buttonEl =\n",
              "          document.querySelector('#df-0227a123-3851-432b-ae1e-59703df04ec1 button.colab-df-convert');\n",
              "        buttonEl.style.display =\n",
              "          google.colab.kernel.accessAllowed ? 'block' : 'none';\n",
              "\n",
              "        async function convertToInteractive(key) {\n",
              "          const element = document.querySelector('#df-0227a123-3851-432b-ae1e-59703df04ec1');\n",
              "          const dataTable =\n",
              "            await google.colab.kernel.invokeFunction('convertToInteractive',\n",
              "                                                     [key], {});\n",
              "          if (!dataTable) return;\n",
              "\n",
              "          const docLinkHtml = 'Like what you see? Visit the ' +\n",
              "            '<a target=\"_blank\" href=https://colab.research.google.com/notebooks/data_table.ipynb>data table notebook</a>'\n",
              "            + ' to learn more about interactive tables.';\n",
              "          element.innerHTML = '';\n",
              "          dataTable['output_type'] = 'display_data';\n",
              "          await google.colab.output.renderOutput(dataTable, element);\n",
              "          const docLink = document.createElement('div');\n",
              "          docLink.innerHTML = docLinkHtml;\n",
              "          element.appendChild(docLink);\n",
              "        }\n",
              "      </script>\n",
              "    </div>\n",
              "  </div>\n",
              "  "
            ]
          },
          "metadata": {},
          "execution_count": 3
        }
      ]
    },
    {
      "cell_type": "markdown",
      "source": [
        "Создадим списки категориальных и числовых колонок"
      ],
      "metadata": {
        "id": "jqhSoMniTU98"
      }
    },
    {
      "cell_type": "code",
      "metadata": {
        "id": "KgnkkF5bEEY9"
      },
      "source": [
        "num_cols = [\n",
        "    'ClientPeriod',\n",
        "    'MonthlySpending',\n",
        "    'TotalSpent',\n",
        "    'IsSeniorCitizen'\n",
        "]\n",
        "\n",
        "cat_cols = cat_cols = [\n",
        "    \"Sex\",\n",
        "    \"HasPartner\",\n",
        "    \"HasChild\",\n",
        "    \"HasPhoneService\",\n",
        "    \"HasMultiplePhoneNumbers\",\n",
        "    \"HasInternetService\",\n",
        "    \"HasOnlineSecurityService\",\n",
        "    \"HasOnlineBackup\",\n",
        "    \"HasDeviceProtection\",\n",
        "    \"HasTechSupportAccess\",\n",
        "    \"HasOnlineTV\",\n",
        "    \"HasMovieSubscription\",\n",
        "    \"HasContractPhone\",\n",
        "    \"IsBillingPaperless\",\n",
        "    \"PaymentMethod\",\n",
        "]\n",
        "\n",
        "feature_cols = num_cols + cat_cols\n",
        "target_col = 'Churn'"
      ],
      "execution_count": null,
      "outputs": []
    },
    {
      "cell_type": "markdown",
      "source": [
        "Посмотрим на наличие пустых значений, в т.ч. с учетом тестовых данных"
      ],
      "metadata": {
        "id": "xE0VTeb0T09T"
      }
    },
    {
      "cell_type": "code",
      "metadata": {
        "id": "tHC6gWabEEZA",
        "colab": {
          "base_uri": "https://localhost:8080/"
        },
        "outputId": "79976173-7975-4d45-e25c-746fde8586c2"
      },
      "source": [
        "print(data.isna().mean())\n",
        "data1.isna().mean()"
      ],
      "execution_count": null,
      "outputs": [
        {
          "output_type": "stream",
          "name": "stdout",
          "text": [
            "ClientPeriod                0.000000\n",
            "MonthlySpending             0.000000\n",
            "TotalSpent                  0.000000\n",
            "Sex                         0.000000\n",
            "IsSeniorCitizen             0.000000\n",
            "HasPartner                  0.000000\n",
            "HasChild                    0.000000\n",
            "HasPhoneService             0.000000\n",
            "HasMultiplePhoneNumbers     0.000000\n",
            "HasInternetService          0.000000\n",
            "HasOnlineSecurityService    0.000000\n",
            "HasOnlineBackup             0.000000\n",
            "HasDeviceProtection         0.000000\n",
            "HasTechSupportAccess        0.000000\n",
            "HasOnlineTV                 0.000000\n",
            "HasMovieSubscription        0.000000\n",
            "HasContractPhone            0.000000\n",
            "IsBillingPaperless          0.000000\n",
            "PaymentMethod               0.000000\n",
            "Churn                       0.250035\n",
            "dtype: float64\n"
          ]
        },
        {
          "output_type": "execute_result",
          "data": {
            "text/plain": [
              "ClientPeriod                0.0\n",
              "MonthlySpending             0.0\n",
              "TotalSpent                  0.0\n",
              "Sex                         0.0\n",
              "IsSeniorCitizen             0.0\n",
              "HasPartner                  0.0\n",
              "HasChild                    0.0\n",
              "HasPhoneService             0.0\n",
              "HasMultiplePhoneNumbers     0.0\n",
              "HasInternetService          0.0\n",
              "HasOnlineSecurityService    0.0\n",
              "HasOnlineBackup             0.0\n",
              "HasDeviceProtection         0.0\n",
              "HasTechSupportAccess        0.0\n",
              "HasOnlineTV                 0.0\n",
              "HasMovieSubscription        0.0\n",
              "HasContractPhone            0.0\n",
              "IsBillingPaperless          0.0\n",
              "PaymentMethod               0.0\n",
              "Churn                       0.0\n",
              "dtype: float64"
            ]
          },
          "metadata": {},
          "execution_count": 5
        }
      ]
    },
    {
      "cell_type": "markdown",
      "source": [
        "Посмотрим на типы данных в колонках"
      ],
      "metadata": {
        "id": "BzETuB-yUDkt"
      }
    },
    {
      "cell_type": "code",
      "source": [
        "data.info()"
      ],
      "metadata": {
        "colab": {
          "base_uri": "https://localhost:8080/"
        },
        "id": "w0ImKr2Wum6y",
        "outputId": "e96d9f20-6821-48ba-e13d-20d52bdfeb93"
      },
      "execution_count": null,
      "outputs": [
        {
          "output_type": "stream",
          "name": "stdout",
          "text": [
            "<class 'pandas.core.frame.DataFrame'>\n",
            "RangeIndex: 7043 entries, 0 to 7042\n",
            "Data columns (total 20 columns):\n",
            " #   Column                    Non-Null Count  Dtype  \n",
            "---  ------                    --------------  -----  \n",
            " 0   ClientPeriod              7043 non-null   int64  \n",
            " 1   MonthlySpending           7043 non-null   float64\n",
            " 2   TotalSpent                7043 non-null   object \n",
            " 3   Sex                       7043 non-null   object \n",
            " 4   IsSeniorCitizen           7043 non-null   int64  \n",
            " 5   HasPartner                7043 non-null   object \n",
            " 6   HasChild                  7043 non-null   object \n",
            " 7   HasPhoneService           7043 non-null   object \n",
            " 8   HasMultiplePhoneNumbers   7043 non-null   object \n",
            " 9   HasInternetService        7043 non-null   object \n",
            " 10  HasOnlineSecurityService  7043 non-null   object \n",
            " 11  HasOnlineBackup           7043 non-null   object \n",
            " 12  HasDeviceProtection       7043 non-null   object \n",
            " 13  HasTechSupportAccess      7043 non-null   object \n",
            " 14  HasOnlineTV               7043 non-null   object \n",
            " 15  HasMovieSubscription      7043 non-null   object \n",
            " 16  HasContractPhone          7043 non-null   object \n",
            " 17  IsBillingPaperless        7043 non-null   object \n",
            " 18  PaymentMethod             7043 non-null   object \n",
            " 19  Churn                     5282 non-null   float64\n",
            "dtypes: float64(2), int64(2), object(16)\n",
            "memory usage: 1.1+ MB\n"
          ]
        }
      ]
    },
    {
      "cell_type": "markdown",
      "source": [
        "И на распределения категориальных признаков"
      ],
      "metadata": {
        "id": "bCAiC_hbUIuF"
      }
    },
    {
      "cell_type": "code",
      "source": [
        "for cols in cat_cols:\n",
        "  print(f\"{cols} DISTRIBUTTION\")\n",
        "  print(data[cols].value_counts())\n",
        "  print(data.shape)"
      ],
      "metadata": {
        "colab": {
          "base_uri": "https://localhost:8080/"
        },
        "id": "Y8JcZTMvvsfS",
        "outputId": "fbb3ca2b-5a37-46b6-9abd-694223ed1ea9"
      },
      "execution_count": null,
      "outputs": [
        {
          "output_type": "stream",
          "name": "stdout",
          "text": [
            "Sex DISTRIBUTTION\n",
            "Male      3555\n",
            "Female    3488\n",
            "Name: Sex, dtype: int64\n",
            "(7043, 20)\n",
            "HasPartner DISTRIBUTTION\n",
            "No     3641\n",
            "Yes    3402\n",
            "Name: HasPartner, dtype: int64\n",
            "(7043, 20)\n",
            "HasChild DISTRIBUTTION\n",
            "No     4933\n",
            "Yes    2110\n",
            "Name: HasChild, dtype: int64\n",
            "(7043, 20)\n",
            "HasPhoneService DISTRIBUTTION\n",
            "Yes    6361\n",
            "No      682\n",
            "Name: HasPhoneService, dtype: int64\n",
            "(7043, 20)\n",
            "HasMultiplePhoneNumbers DISTRIBUTTION\n",
            "No                  3390\n",
            "Yes                 2971\n",
            "No phone service     682\n",
            "Name: HasMultiplePhoneNumbers, dtype: int64\n",
            "(7043, 20)\n",
            "HasInternetService DISTRIBUTTION\n",
            "Fiber optic    3096\n",
            "DSL            2421\n",
            "No             1526\n",
            "Name: HasInternetService, dtype: int64\n",
            "(7043, 20)\n",
            "HasOnlineSecurityService DISTRIBUTTION\n",
            "No                     3498\n",
            "Yes                    2019\n",
            "No internet service    1526\n",
            "Name: HasOnlineSecurityService, dtype: int64\n",
            "(7043, 20)\n",
            "HasOnlineBackup DISTRIBUTTION\n",
            "No                     3088\n",
            "Yes                    2429\n",
            "No internet service    1526\n",
            "Name: HasOnlineBackup, dtype: int64\n",
            "(7043, 20)\n",
            "HasDeviceProtection DISTRIBUTTION\n",
            "No                     3095\n",
            "Yes                    2422\n",
            "No internet service    1526\n",
            "Name: HasDeviceProtection, dtype: int64\n",
            "(7043, 20)\n",
            "HasTechSupportAccess DISTRIBUTTION\n",
            "No                     3473\n",
            "Yes                    2044\n",
            "No internet service    1526\n",
            "Name: HasTechSupportAccess, dtype: int64\n",
            "(7043, 20)\n",
            "HasOnlineTV DISTRIBUTTION\n",
            "No                     2810\n",
            "Yes                    2707\n",
            "No internet service    1526\n",
            "Name: HasOnlineTV, dtype: int64\n",
            "(7043, 20)\n",
            "HasMovieSubscription DISTRIBUTTION\n",
            "No                     2785\n",
            "Yes                    2732\n",
            "No internet service    1526\n",
            "Name: HasMovieSubscription, dtype: int64\n",
            "(7043, 20)\n",
            "HasContractPhone DISTRIBUTTION\n",
            "Month-to-month    3875\n",
            "Two year          1695\n",
            "One year          1473\n",
            "Name: HasContractPhone, dtype: int64\n",
            "(7043, 20)\n",
            "IsBillingPaperless DISTRIBUTTION\n",
            "Yes    4171\n",
            "No     2872\n",
            "Name: IsBillingPaperless, dtype: int64\n",
            "(7043, 20)\n",
            "PaymentMethod DISTRIBUTTION\n",
            "Electronic check             2365\n",
            "Mailed check                 1612\n",
            "Bank transfer (automatic)    1544\n",
            "Credit card (automatic)      1522\n",
            "Name: PaymentMethod, dtype: int64\n",
            "(7043, 20)\n"
          ]
        }
      ]
    },
    {
      "cell_type": "markdown",
      "source": [
        "Можно заметить, что колонка 'TotalSpent' не переобозначается из object в float. Это связано с тем, что в ней присутсвуют часть пробелов: ' '. В других колонках такого нет.\n",
        "Найдем эти строки ' ' и изменим их.\\\n",
        "Если посмотреть на строки с ' ' значениями, поймем, что это скорее всего новые клиенты, которые еще не внесли первый платеж/он не отобразился. Поэтому заменим ' ' на 0."
      ],
      "metadata": {
        "id": "6Pp_Ap6kRVta"
      }
    },
    {
      "cell_type": "code",
      "source": [
        "data1.replace(' ', np.nan, inplace=True)\n",
        "data2.replace(' ', np.nan, inplace=True)\n",
        "\n",
        "data1['TotalSpent'] = data1['TotalSpent'].astype(float)\n",
        "data2['TotalSpent'] = data1['TotalSpent'].astype(float)\n",
        "\n",
        "data1[\"TotalSpent\"] = data1.TotalSpent.fillna(0).astype(float)\n",
        "data2[\"TotalSpent\"] = data2.TotalSpent.fillna(0).astype(float)\n",
        "data1.info()"
      ],
      "metadata": {
        "colab": {
          "base_uri": "https://localhost:8080/"
        },
        "id": "A0-wZ-LO5pAL",
        "outputId": "4a2eeae7-f6a6-42d9-e5a8-a2c97ad00a00"
      },
      "execution_count": null,
      "outputs": [
        {
          "output_type": "stream",
          "name": "stdout",
          "text": [
            "<class 'pandas.core.frame.DataFrame'>\n",
            "RangeIndex: 5282 entries, 0 to 5281\n",
            "Data columns (total 20 columns):\n",
            " #   Column                    Non-Null Count  Dtype  \n",
            "---  ------                    --------------  -----  \n",
            " 0   ClientPeriod              5282 non-null   int64  \n",
            " 1   MonthlySpending           5282 non-null   float64\n",
            " 2   TotalSpent                5282 non-null   float64\n",
            " 3   Sex                       5282 non-null   object \n",
            " 4   IsSeniorCitizen           5282 non-null   int64  \n",
            " 5   HasPartner                5282 non-null   object \n",
            " 6   HasChild                  5282 non-null   object \n",
            " 7   HasPhoneService           5282 non-null   object \n",
            " 8   HasMultiplePhoneNumbers   5282 non-null   object \n",
            " 9   HasInternetService        5282 non-null   object \n",
            " 10  HasOnlineSecurityService  5282 non-null   object \n",
            " 11  HasOnlineBackup           5282 non-null   object \n",
            " 12  HasDeviceProtection       5282 non-null   object \n",
            " 13  HasTechSupportAccess      5282 non-null   object \n",
            " 14  HasOnlineTV               5282 non-null   object \n",
            " 15  HasMovieSubscription      5282 non-null   object \n",
            " 16  HasContractPhone          5282 non-null   object \n",
            " 17  IsBillingPaperless        5282 non-null   object \n",
            " 18  PaymentMethod             5282 non-null   object \n",
            " 19  Churn                     5282 non-null   int64  \n",
            "dtypes: float64(2), int64(3), object(15)\n",
            "memory usage: 825.4+ KB\n"
          ]
        }
      ]
    },
    {
      "cell_type": "markdown",
      "metadata": {
        "id": "dK370bPCEEZD"
      },
      "source": [
        "## Анализ данных"
      ]
    },
    {
      "cell_type": "markdown",
      "source": [
        "Визуализируем данные (с учетом тестовой части)"
      ],
      "metadata": {
        "id": "JQhYnG9XSRkm"
      }
    },
    {
      "cell_type": "code",
      "metadata": {
        "id": "NZkbgFJZEEZE",
        "colab": {
          "base_uri": "https://localhost:8080/",
          "height": 1000
        },
        "outputId": "a2f5c8c5-bd14-4abe-edd6-20bf1e08b71c"
      },
      "source": [
        "data = pd.concat([data1, data2], ignore_index=True)\n",
        "fig, axes = plt.subplots(5, 4, figsize=(25, 20))\n",
        "for ax, col in zip(axes.flatten(), data.columns):\n",
        "    ax.set_title(col)\n",
        "    if col in cat_cols or col == 'Churn':\n",
        "        ax.pie(data[col].value_counts(), autopct=\"%1.1f%%\", labels=data[col].value_counts().index)\n",
        "    else:\n",
        "        data[col].plot(kind=\"hist\", ec=\"black\", ax=ax)"
      ],
      "execution_count": null,
      "outputs": [
        {
          "output_type": "display_data",
          "data": {
            "text/plain": [
              "<Figure size 1800x1440 with 20 Axes>"
            ],
            "image/png": "[encoded data removed]"
          },
          "metadata": {
            "needs_background": "light"
          }
        }
      ]
    },
    {
      "cell_type": "markdown",
      "source": [
        "Посмотрим на ряд основных статистик"
      ],
      "metadata": {
        "id": "NRVJw5zNbSDX"
      }
    },
    {
      "cell_type": "code",
      "source": [
        "data1.describe(include='number')"
      ],
      "metadata": {
        "colab": {
          "base_uri": "https://localhost:8080/",
          "height": 300
        },
        "id": "fmNRB8O9bWZY",
        "outputId": "32d9446e-77ac-4ea2-877a-a7f74f162911"
      },
      "execution_count": null,
      "outputs": [
        {
          "output_type": "execute_result",
          "data": {
            "text/plain": [
              "       ClientPeriod  MonthlySpending   TotalSpent  IsSeniorCitizen  \\\n",
              "count   5282.000000      5282.000000  5282.000000      5282.000000   \n",
              "mean      32.397009        64.924754  2287.486161         0.159409   \n",
              "std       24.550326        30.176464  2269.049195         0.366092   \n",
              "min        0.000000        18.250000     0.000000         0.000000   \n",
              "25%        9.000000        35.462500   395.725000         0.000000   \n",
              "50%       29.000000        70.400000  1405.650000         0.000000   \n",
              "75%       55.000000        90.050000  3795.212500         0.000000   \n",
              "max       72.000000       118.750000  8684.800000         1.000000   \n",
              "\n",
              "             Churn  \n",
              "count  5282.000000  \n",
              "mean      0.262022  \n",
              "std       0.439776  \n",
              "min       0.000000  \n",
              "25%       0.000000  \n",
              "50%       0.000000  \n",
              "75%       1.000000  \n",
              "max       1.000000  "
            ],
            "text/html": [
              "\n",
              "  <div id=\"df-e368f3ce-d179-4d7d-ba9c-89a1831992b2\">\n",
              "    <div class=\"colab-df-container\">\n",
              "      <div>\n",
              "<style scoped>\n",
              "    .dataframe tbody tr th:only-of-type {\n",
              "        vertical-align: middle;\n",
              "    }\n",
              "\n",
              "    .dataframe tbody tr th {\n",
              "        vertical-align: top;\n",
              "    }\n",
              "\n",
              "    .dataframe thead th {\n",
              "        text-align: right;\n",
              "    }\n",
              "</style>\n",
              "<table border=\"1\" class=\"dataframe\">\n",
              "  <thead>\n",
              "    <tr style=\"text-align: right;\">\n",
              "      <th></th>\n",
              "      <th>ClientPeriod</th>\n",
              "      <th>MonthlySpending</th>\n",
              "      <th>TotalSpent</th>\n",
              "      <th>IsSeniorCitizen</th>\n",
              "      <th>Churn</th>\n",
              "    </tr>\n",
              "  </thead>\n",
              "  <tbody>\n",
              "    <tr>\n",
              "      <th>count</th>\n",
              "      <td>5282.000000</td>\n",
              "      <td>5282.000000</td>\n",
              "      <td>5282.000000</td>\n",
              "      <td>5282.000000</td>\n",
              "      <td>5282.000000</td>\n",
              "    </tr>\n",
              "    <tr>\n",
              "      <th>mean</th>\n",
              "      <td>32.397009</td>\n",
              "      <td>64.924754</td>\n",
              "      <td>2287.486161</td>\n",
              "      <td>0.159409</td>\n",
              "      <td>0.262022</td>\n",
              "    </tr>\n",
              "    <tr>\n",
              "      <th>std</th>\n",
              "      <td>24.550326</td>\n",
              "      <td>30.176464</td>\n",
              "      <td>2269.049195</td>\n",
              "      <td>0.366092</td>\n",
              "      <td>0.439776</td>\n",
              "    </tr>\n",
              "    <tr>\n",
              "      <th>min</th>\n",
              "      <td>0.000000</td>\n",
              "      <td>18.250000</td>\n",
              "      <td>0.000000</td>\n",
              "      <td>0.000000</td>\n",
              "      <td>0.000000</td>\n",
              "    </tr>\n",
              "    <tr>\n",
              "      <th>25%</th>\n",
              "      <td>9.000000</td>\n",
              "      <td>35.462500</td>\n",
              "      <td>395.725000</td>\n",
              "      <td>0.000000</td>\n",
              "      <td>0.000000</td>\n",
              "    </tr>\n",
              "    <tr>\n",
              "      <th>50%</th>\n",
              "      <td>29.000000</td>\n",
              "      <td>70.400000</td>\n",
              "      <td>1405.650000</td>\n",
              "      <td>0.000000</td>\n",
              "      <td>0.000000</td>\n",
              "    </tr>\n",
              "    <tr>\n",
              "      <th>75%</th>\n",
              "      <td>55.000000</td>\n",
              "      <td>90.050000</td>\n",
              "      <td>3795.212500</td>\n",
              "      <td>0.000000</td>\n",
              "      <td>1.000000</td>\n",
              "    </tr>\n",
              "    <tr>\n",
              "      <th>max</th>\n",
              "      <td>72.000000</td>\n",
              "      <td>118.750000</td>\n",
              "      <td>8684.800000</td>\n",
              "      <td>1.000000</td>\n",
              "      <td>1.000000</td>\n",
              "    </tr>\n",
              "  </tbody>\n",
              "</table>\n",
              "</div>\n",
              "      <button class=\"colab-df-convert\" onclick=\"convertToInteractive('df-e368f3ce-d179-4d7d-ba9c-89a1831992b2')\"\n",
              "              title=\"Convert this dataframe to an interactive table.\"\n",
              "              style=\"display:none;\">\n",
              "        \n",
              "  <svg xmlns=\"http://www.w3.org/2000/svg\" height=\"24px\"viewBox=\"0 0 24 24\"\n",
              "       width=\"24px\">\n",
              "    <path d=\"M0 0h24v24H0V0z\" fill=\"none\"/>\n",
              "    <path d=\"M18.56 5.44l.94 2.06.94-2.06 2.06-.94-2.06-.94-.94-2.06-.94 2.06-2.06.94zm-11 1L8.5 8.5l.94-2.06 2.06-.94-2.06-.94L8.5 2.5l-.94 2.06-2.06.94zm10 10l.94 2.06.94-2.06 2.06-.94-2.06-.94-.94-2.06-.94 2.06-2.06.94z\"/><path d=\"M17.41 7.96l-1.37-1.37c-.4-.4-.92-.59-1.43-.59-.52 0-1.04.2-1.43.59L10.3 9.45l-7.72 7.72c-.78.78-.78 2.05 0 2.83L4 21.41c.39.39.9.59 1.41.59.51 0 1.02-.2 1.41-.59l7.78-7.78 2.81-2.81c.8-.78.8-2.07 0-2.86zM5.41 20L4 18.59l7.72-7.72 1.47 1.35L5.41 20z\"/>\n",
              "  </svg>\n",
              "      </button>\n",
              "      \n",
              "  <style>\n",
              "    .colab-df-container {\n",
              "      display:flex;\n",
              "      flex-wrap:wrap;\n",
              "      gap: 12px;\n",
              "    }\n",
              "\n",
              "    .colab-df-convert {\n",
              "      background-color: #E8F0FE;\n",
              "      border: none;\n",
              "      border-radius: 50%;\n",
              "      cursor: pointer;\n",
              "      display: none;\n",
              "      fill: #1967D2;\n",
              "      height: 32px;\n",
              "      padding: 0 0 0 0;\n",
              "      width: 32px;\n",
              "    }\n",
              "\n",
              "    .colab-df-convert:hover {\n",
              "      background-color: #E2EBFA;\n",
              "      box-shadow: 0px 1px 2px rgba(60, 64, 67, 0.3), 0px 1px 3px 1px rgba(60, 64, 67, 0.15);\n",
              "      fill: #174EA6;\n",
              "    }\n",
              "\n",
              "    [theme=dark] .colab-df-convert {\n",
              "      background-color: #3B4455;\n",
              "      fill: #D2E3FC;\n",
              "    }\n",
              "\n",
              "    [theme=dark] .colab-df-convert:hover {\n",
              "      background-color: #434B5C;\n",
              "      box-shadow: 0px 1px 3px 1px rgba(0, 0, 0, 0.15);\n",
              "      filter: drop-shadow(0px 1px 2px rgba(0, 0, 0, 0.3));\n",
              "      fill: #FFFFFF;\n",
              "    }\n",
              "  </style>\n",
              "\n",
              "      <script>\n",
              "        const buttonEl =\n",
              "          document.querySelector('#df-e368f3ce-d179-4d7d-ba9c-89a1831992b2 button.colab-df-convert');\n",
              "        buttonEl.style.display =\n",
              "          google.colab.kernel.accessAllowed ? 'block' : 'none';\n",
              "\n",
              "        async function convertToInteractive(key) {\n",
              "          const element = document.querySelector('#df-e368f3ce-d179-4d7d-ba9c-89a1831992b2');\n",
              "          const dataTable =\n",
              "            await google.colab.kernel.invokeFunction('convertToInteractive',\n",
              "                                                     [key], {});\n",
              "          if (!dataTable) return;\n",
              "\n",
              "          const docLinkHtml = 'Like what you see? Visit the ' +\n",
              "            '<a target=\"_blank\" href=https://colab.research.google.com/notebooks/data_table.ipynb>data table notebook</a>'\n",
              "            + ' to learn more about interactive tables.';\n",
              "          element.innerHTML = '';\n",
              "          dataTable['output_type'] = 'display_data';\n",
              "          await google.colab.output.renderOutput(dataTable, element);\n",
              "          const docLink = document.createElement('div');\n",
              "          docLink.innerHTML = docLinkHtml;\n",
              "          element.appendChild(docLink);\n",
              "        }\n",
              "      </script>\n",
              "    </div>\n",
              "  </div>\n",
              "  "
            ]
          },
          "metadata": {},
          "execution_count": 10
        }
      ]
    },
    {
      "cell_type": "code",
      "source": [
        "data1.describe(include='object')"
      ],
      "metadata": {
        "colab": {
          "base_uri": "https://localhost:8080/",
          "height": 256
        },
        "id": "ov0oLowzcDsd",
        "outputId": "3fe68bcd-b66e-4f46-960b-993469f80da6"
      },
      "execution_count": null,
      "outputs": [
        {
          "output_type": "execute_result",
          "data": {
            "text/plain": [
              "         Sex HasPartner HasChild HasPhoneService HasMultiplePhoneNumbers  \\\n",
              "count   5282       5282     5282            5282                    5282   \n",
              "unique     2          2        2               2                       3   \n",
              "top     Male         No       No             Yes                      No   \n",
              "freq    2655       2705     3676            4761                    2511   \n",
              "\n",
              "       HasInternetService HasOnlineSecurityService HasOnlineBackup  \\\n",
              "count                5282                     5282            5282   \n",
              "unique                  3                        3               3   \n",
              "top           Fiber optic                       No              No   \n",
              "freq                 2341                     2612            2332   \n",
              "\n",
              "       HasDeviceProtection HasTechSupportAccess HasOnlineTV  \\\n",
              "count                 5282                 5282        5282   \n",
              "unique                   3                    3           3   \n",
              "top                     No                   No          No   \n",
              "freq                  2317                 2604        2099   \n",
              "\n",
              "       HasMovieSubscription HasContractPhone IsBillingPaperless  \\\n",
              "count                  5282             5282               5282   \n",
              "unique                    3                3                  2   \n",
              "top                      No   Month-to-month                Yes   \n",
              "freq                   2081             2920               3148   \n",
              "\n",
              "           PaymentMethod  \n",
              "count               5282  \n",
              "unique                 4  \n",
              "top     Electronic check  \n",
              "freq                1786  "
            ],
            "text/html": [
              "\n",
              "  <div id=\"df-85184467-1a7b-4ed2-9c08-beaf1e896d87\">\n",
              "    <div class=\"colab-df-container\">\n",
              "      <div>\n",
              "<style scoped>\n",
              "    .dataframe tbody tr th:only-of-type {\n",
              "        vertical-align: middle;\n",
              "    }\n",
              "\n",
              "    .dataframe tbody tr th {\n",
              "        vertical-align: top;\n",
              "    }\n",
              "\n",
              "    .dataframe thead th {\n",
              "        text-align: right;\n",
              "    }\n",
              "</style>\n",
              "<table border=\"1\" class=\"dataframe\">\n",
              "  <thead>\n",
              "    <tr style=\"text-align: right;\">\n",
              "      <th></th>\n",
              "      <th>Sex</th>\n",
              "      <th>HasPartner</th>\n",
              "      <th>HasChild</th>\n",
              "      <th>HasPhoneService</th>\n",
              "      <th>HasMultiplePhoneNumbers</th>\n",
              "      <th>HasInternetService</th>\n",
              "      <th>HasOnlineSecurityService</th>\n",
              "      <th>HasOnlineBackup</th>\n",
              "      <th>HasDeviceProtection</th>\n",
              "      <th>HasTechSupportAccess</th>\n",
              "      <th>HasOnlineTV</th>\n",
              "      <th>HasMovieSubscription</th>\n",
              "      <th>HasContractPhone</th>\n",
              "      <th>IsBillingPaperless</th>\n",
              "      <th>PaymentMethod</th>\n",
              "    </tr>\n",
              "  </thead>\n",
              "  <tbody>\n",
              "    <tr>\n",
              "      <th>count</th>\n",
              "      <td>5282</td>\n",
              "      <td>5282</td>\n",
              "      <td>5282</td>\n",
              "      <td>5282</td>\n",
              "      <td>5282</td>\n",
              "      <td>5282</td>\n",
              "      <td>5282</td>\n",
              "      <td>5282</td>\n",
              "      <td>5282</td>\n",
              "      <td>5282</td>\n",
              "      <td>5282</td>\n",
              "      <td>5282</td>\n",
              "      <td>5282</td>\n",
              "      <td>5282</td>\n",
              "      <td>5282</td>\n",
              "    </tr>\n",
              "    <tr>\n",
              "      <th>unique</th>\n",
              "      <td>2</td>\n",
              "      <td>2</td>\n",
              "      <td>2</td>\n",
              "      <td>2</td>\n",
              "      <td>3</td>\n",
              "      <td>3</td>\n",
              "      <td>3</td>\n",
              "      <td>3</td>\n",
              "      <td>3</td>\n",
              "      <td>3</td>\n",
              "      <td>3</td>\n",
              "      <td>3</td>\n",
              "      <td>3</td>\n",
              "      <td>2</td>\n",
              "      <td>4</td>\n",
              "    </tr>\n",
              "    <tr>\n",
              "      <th>top</th>\n",
              "      <td>Male</td>\n",
              "      <td>No</td>\n",
              "      <td>No</td>\n",
              "      <td>Yes</td>\n",
              "      <td>No</td>\n",
              "      <td>Fiber optic</td>\n",
              "      <td>No</td>\n",
              "      <td>No</td>\n",
              "      <td>No</td>\n",
              "      <td>No</td>\n",
              "      <td>No</td>\n",
              "      <td>No</td>\n",
              "      <td>Month-to-month</td>\n",
              "      <td>Yes</td>\n",
              "      <td>Electronic check</td>\n",
              "    </tr>\n",
              "    <tr>\n",
              "      <th>freq</th>\n",
              "      <td>2655</td>\n",
              "      <td>2705</td>\n",
              "      <td>3676</td>\n",
              "      <td>4761</td>\n",
              "      <td>2511</td>\n",
              "      <td>2341</td>\n",
              "      <td>2612</td>\n",
              "      <td>2332</td>\n",
              "      <td>2317</td>\n",
              "      <td>2604</td>\n",
              "      <td>2099</td>\n",
              "      <td>2081</td>\n",
              "      <td>2920</td>\n",
              "      <td>3148</td>\n",
              "      <td>1786</td>\n",
              "    </tr>\n",
              "  </tbody>\n",
              "</table>\n",
              "</div>\n",
              "      <button class=\"colab-df-convert\" onclick=\"convertToInteractive('df-85184467-1a7b-4ed2-9c08-beaf1e896d87')\"\n",
              "              title=\"Convert this dataframe to an interactive table.\"\n",
              "              style=\"display:none;\">\n",
              "        \n",
              "  <svg xmlns=\"http://www.w3.org/2000/svg\" height=\"24px\"viewBox=\"0 0 24 24\"\n",
              "       width=\"24px\">\n",
              "    <path d=\"M0 0h24v24H0V0z\" fill=\"none\"/>\n",
              "    <path d=\"M18.56 5.44l.94 2.06.94-2.06 2.06-.94-2.06-.94-.94-2.06-.94 2.06-2.06.94zm-11 1L8.5 8.5l.94-2.06 2.06-.94-2.06-.94L8.5 2.5l-.94 2.06-2.06.94zm10 10l.94 2.06.94-2.06 2.06-.94-2.06-.94-.94-2.06-.94 2.06-2.06.94z\"/><path d=\"M17.41 7.96l-1.37-1.37c-.4-.4-.92-.59-1.43-.59-.52 0-1.04.2-1.43.59L10.3 9.45l-7.72 7.72c-.78.78-.78 2.05 0 2.83L4 21.41c.39.39.9.59 1.41.59.51 0 1.02-.2 1.41-.59l7.78-7.78 2.81-2.81c.8-.78.8-2.07 0-2.86zM5.41 20L4 18.59l7.72-7.72 1.47 1.35L5.41 20z\"/>\n",
              "  </svg>\n",
              "      </button>\n",
              "      \n",
              "  <style>\n",
              "    .colab-df-container {\n",
              "      display:flex;\n",
              "      flex-wrap:wrap;\n",
              "      gap: 12px;\n",
              "    }\n",
              "\n",
              "    .colab-df-convert {\n",
              "      background-color: #E8F0FE;\n",
              "      border: none;\n",
              "      border-radius: 50%;\n",
              "      cursor: pointer;\n",
              "      display: none;\n",
              "      fill: #1967D2;\n",
              "      height: 32px;\n",
              "      padding: 0 0 0 0;\n",
              "      width: 32px;\n",
              "    }\n",
              "\n",
              "    .colab-df-convert:hover {\n",
              "      background-color: #E2EBFA;\n",
              "      box-shadow: 0px 1px 2px rgba(60, 64, 67, 0.3), 0px 1px 3px 1px rgba(60, 64, 67, 0.15);\n",
              "      fill: #174EA6;\n",
              "    }\n",
              "\n",
              "    [theme=dark] .colab-df-convert {\n",
              "      background-color: #3B4455;\n",
              "      fill: #D2E3FC;\n",
              "    }\n",
              "\n",
              "    [theme=dark] .colab-df-convert:hover {\n",
              "      background-color: #434B5C;\n",
              "      box-shadow: 0px 1px 3px 1px rgba(0, 0, 0, 0.15);\n",
              "      filter: drop-shadow(0px 1px 2px rgba(0, 0, 0, 0.3));\n",
              "      fill: #FFFFFF;\n",
              "    }\n",
              "  </style>\n",
              "\n",
              "      <script>\n",
              "        const buttonEl =\n",
              "          document.querySelector('#df-85184467-1a7b-4ed2-9c08-beaf1e896d87 button.colab-df-convert');\n",
              "        buttonEl.style.display =\n",
              "          google.colab.kernel.accessAllowed ? 'block' : 'none';\n",
              "\n",
              "        async function convertToInteractive(key) {\n",
              "          const element = document.querySelector('#df-85184467-1a7b-4ed2-9c08-beaf1e896d87');\n",
              "          const dataTable =\n",
              "            await google.colab.kernel.invokeFunction('convertToInteractive',\n",
              "                                                     [key], {});\n",
              "          if (!dataTable) return;\n",
              "\n",
              "          const docLinkHtml = 'Like what you see? Visit the ' +\n",
              "            '<a target=\"_blank\" href=https://colab.research.google.com/notebooks/data_table.ipynb>data table notebook</a>'\n",
              "            + ' to learn more about interactive tables.';\n",
              "          element.innerHTML = '';\n",
              "          dataTable['output_type'] = 'display_data';\n",
              "          await google.colab.output.renderOutput(dataTable, element);\n",
              "          const docLink = document.createElement('div');\n",
              "          docLink.innerHTML = docLinkHtml;\n",
              "          element.appendChild(docLink);\n",
              "        }\n",
              "      </script>\n",
              "    </div>\n",
              "  </div>\n",
              "  "
            ]
          },
          "metadata": {},
          "execution_count": 11
        }
      ]
    },
    {
      "cell_type": "markdown",
      "source": [
        "Получается, что типичным клиентом телеком компании является неженатый мужчина, у него услуги связи с одной телефонной линией и оптоволоконный интернет без допуслуг. Использует ежемесячную оплату через Electronic check.\n",
        "\n",
        "В среднем услугами компании пользуются 2.8 года, тратя в месяц 65$."
      ],
      "metadata": {
        "id": "vkY_Ve0VcQBa"
      }
    },
    {
      "cell_type": "markdown",
      "source": [
        "Посмотрим на распределение в зависимости от оттока клиента:"
      ],
      "metadata": {
        "id": "RSX8wUXsfSae"
      }
    },
    {
      "cell_type": "code",
      "source": [
        "data1.groupby('Churn')[['MonthlySpending', 'TotalSpent', 'ClientPeriod']].mean()"
      ],
      "metadata": {
        "colab": {
          "base_uri": "https://localhost:8080/",
          "height": 143
        },
        "id": "PdL8jTgqfeAO",
        "outputId": "d02b5782-7eeb-40e9-9dc9-4c98e22d6438"
      },
      "execution_count": null,
      "outputs": [
        {
          "output_type": "execute_result",
          "data": {
            "text/plain": [
              "       MonthlySpending   TotalSpent  ClientPeriod\n",
              "Churn                                            \n",
              "0            61.602719  2557.914469     37.525911\n",
              "1            74.281178  1525.831864     17.951590"
            ],
            "text/html": [
              "\n",
              "  <div id=\"df-ce994911-61cc-4e05-8fe9-947bda2b5ad4\">\n",
              "    <div class=\"colab-df-container\">\n",
              "      <div>\n",
              "<style scoped>\n",
              "    .dataframe tbody tr th:only-of-type {\n",
              "        vertical-align: middle;\n",
              "    }\n",
              "\n",
              "    .dataframe tbody tr th {\n",
              "        vertical-align: top;\n",
              "    }\n",
              "\n",
              "    .dataframe thead th {\n",
              "        text-align: right;\n",
              "    }\n",
              "</style>\n",
              "<table border=\"1\" class=\"dataframe\">\n",
              "  <thead>\n",
              "    <tr style=\"text-align: right;\">\n",
              "      <th></th>\n",
              "      <th>MonthlySpending</th>\n",
              "      <th>TotalSpent</th>\n",
              "      <th>ClientPeriod</th>\n",
              "    </tr>\n",
              "    <tr>\n",
              "      <th>Churn</th>\n",
              "      <th></th>\n",
              "      <th></th>\n",
              "      <th></th>\n",
              "    </tr>\n",
              "  </thead>\n",
              "  <tbody>\n",
              "    <tr>\n",
              "      <th>0</th>\n",
              "      <td>61.602719</td>\n",
              "      <td>2557.914469</td>\n",
              "      <td>37.525911</td>\n",
              "    </tr>\n",
              "    <tr>\n",
              "      <th>1</th>\n",
              "      <td>74.281178</td>\n",
              "      <td>1525.831864</td>\n",
              "      <td>17.951590</td>\n",
              "    </tr>\n",
              "  </tbody>\n",
              "</table>\n",
              "</div>\n",
              "      <button class=\"colab-df-convert\" onclick=\"convertToInteractive('df-ce994911-61cc-4e05-8fe9-947bda2b5ad4')\"\n",
              "              title=\"Convert this dataframe to an interactive table.\"\n",
              "              style=\"display:none;\">\n",
              "        \n",
              "  <svg xmlns=\"http://www.w3.org/2000/svg\" height=\"24px\"viewBox=\"0 0 24 24\"\n",
              "       width=\"24px\">\n",
              "    <path d=\"M0 0h24v24H0V0z\" fill=\"none\"/>\n",
              "    <path d=\"M18.56 5.44l.94 2.06.94-2.06 2.06-.94-2.06-.94-.94-2.06-.94 2.06-2.06.94zm-11 1L8.5 8.5l.94-2.06 2.06-.94-2.06-.94L8.5 2.5l-.94 2.06-2.06.94zm10 10l.94 2.06.94-2.06 2.06-.94-2.06-.94-.94-2.06-.94 2.06-2.06.94z\"/><path d=\"M17.41 7.96l-1.37-1.37c-.4-.4-.92-.59-1.43-.59-.52 0-1.04.2-1.43.59L10.3 9.45l-7.72 7.72c-.78.78-.78 2.05 0 2.83L4 21.41c.39.39.9.59 1.41.59.51 0 1.02-.2 1.41-.59l7.78-7.78 2.81-2.81c.8-.78.8-2.07 0-2.86zM5.41 20L4 18.59l7.72-7.72 1.47 1.35L5.41 20z\"/>\n",
              "  </svg>\n",
              "      </button>\n",
              "      \n",
              "  <style>\n",
              "    .colab-df-container {\n",
              "      display:flex;\n",
              "      flex-wrap:wrap;\n",
              "      gap: 12px;\n",
              "    }\n",
              "\n",
              "    .colab-df-convert {\n",
              "      background-color: #E8F0FE;\n",
              "      border: none;\n",
              "      border-radius: 50%;\n",
              "      cursor: pointer;\n",
              "      display: none;\n",
              "      fill: #1967D2;\n",
              "      height: 32px;\n",
              "      padding: 0 0 0 0;\n",
              "      width: 32px;\n",
              "    }\n",
              "\n",
              "    .colab-df-convert:hover {\n",
              "      background-color: #E2EBFA;\n",
              "      box-shadow: 0px 1px 2px rgba(60, 64, 67, 0.3), 0px 1px 3px 1px rgba(60, 64, 67, 0.15);\n",
              "      fill: #174EA6;\n",
              "    }\n",
              "\n",
              "    [theme=dark] .colab-df-convert {\n",
              "      background-color: #3B4455;\n",
              "      fill: #D2E3FC;\n",
              "    }\n",
              "\n",
              "    [theme=dark] .colab-df-convert:hover {\n",
              "      background-color: #434B5C;\n",
              "      box-shadow: 0px 1px 3px 1px rgba(0, 0, 0, 0.15);\n",
              "      filter: drop-shadow(0px 1px 2px rgba(0, 0, 0, 0.3));\n",
              "      fill: #FFFFFF;\n",
              "    }\n",
              "  </style>\n",
              "\n",
              "      <script>\n",
              "        const buttonEl =\n",
              "          document.querySelector('#df-ce994911-61cc-4e05-8fe9-947bda2b5ad4 button.colab-df-convert');\n",
              "        buttonEl.style.display =\n",
              "          google.colab.kernel.accessAllowed ? 'block' : 'none';\n",
              "\n",
              "        async function convertToInteractive(key) {\n",
              "          const element = document.querySelector('#df-ce994911-61cc-4e05-8fe9-947bda2b5ad4');\n",
              "          const dataTable =\n",
              "            await google.colab.kernel.invokeFunction('convertToInteractive',\n",
              "                                                     [key], {});\n",
              "          if (!dataTable) return;\n",
              "\n",
              "          const docLinkHtml = 'Like what you see? Visit the ' +\n",
              "            '<a target=\"_blank\" href=https://colab.research.google.com/notebooks/data_table.ipynb>data table notebook</a>'\n",
              "            + ' to learn more about interactive tables.';\n",
              "          element.innerHTML = '';\n",
              "          dataTable['output_type'] = 'display_data';\n",
              "          await google.colab.output.renderOutput(dataTable, element);\n",
              "          const docLink = document.createElement('div');\n",
              "          docLink.innerHTML = docLinkHtml;\n",
              "          element.appendChild(docLink);\n",
              "        }\n",
              "      </script>\n",
              "    </div>\n",
              "  </div>\n",
              "  "
            ]
          },
          "metadata": {},
          "execution_count": 12
        }
      ]
    },
    {
      "cell_type": "markdown",
      "source": [
        "Можно сделать вывод, что клиенты, отказавшиеся от услуг, тратили в месяц больше и пользовались услугами меньшее время. Ежемесячный чек может быть больше только в том случае, если пользователь потреблял больше услуг. В то же время качество предоставляемых услуг, как и их стоимость, являются одними из ключевых факторов влияющих на лояльность клиента."
      ],
      "metadata": {
        "id": "3o_4nzdifoIe"
      }
    },
    {
      "cell_type": "markdown",
      "source": [
        "Проверим данные на выбросы:"
      ],
      "metadata": {
        "id": "58APUSIRgOt9"
      }
    },
    {
      "cell_type": "code",
      "source": [
        "fig, axs = plt.subplots(ncols=3, figsize=(12, 6))\n",
        "plt.subplots_adjust(wspace=0.33, hspace=0.45)\n",
        "\n",
        "for i, column in enumerate(num_cols):\n",
        "    if column == \"IsSeniorCitizen\":\n",
        "      break\n",
        "    ax = axs[i]\n",
        "    ax.boxplot(data1[column], showfliers=True)\n",
        "    ax.set_title(column)    \n",
        "        \n",
        "plt.show()"
      ],
      "metadata": {
        "colab": {
          "base_uri": "https://localhost:8080/",
          "height": 390
        },
        "id": "mY-CT-xVgRma",
        "outputId": "b795f8a7-b07d-4327-8fcf-556c4dffe66d"
      },
      "execution_count": null,
      "outputs": [
        {
          "output_type": "display_data",
          "data": {
            "text/plain": [
              "<Figure size 864x432 with 3 Axes>"
            ],
            "image/png": "[encoded data removed]"
          },
          "metadata": {
            "needs_background": "light"
          }
        }
      ]
    },
    {
      "cell_type": "markdown",
      "source": [
        "Выбросов нет."
      ],
      "metadata": {
        "id": "7aedAYTDhPYO"
      }
    },
    {
      "cell_type": "markdown",
      "source": [
        "Согласно диаграмме 'Churn' целевой переменной, **сильно несбалансированного класса нет**. \\\\\n",
        "Заменим бинарные категориальные признаки на 0 и 1, и посмотрим на корреляции:\n",
        "\n"
      ],
      "metadata": {
        "id": "bLrwMO-GHnof"
      }
    },
    {
      "cell_type": "code",
      "metadata": {
        "id": "fwfksF1gEEZI",
        "colab": {
          "base_uri": "https://localhost:8080/",
          "height": 673
        },
        "outputId": "aedd4532-f1e2-4125-ad0b-010fc4e46c9b"
      },
      "source": [
        "patterns = {\n",
        "    'No': 0,\n",
        "    'Yes': 1,\n",
        "    'Male': 0,\n",
        "    'Female': 1,\n",
        "}\n",
        "false_cat_cols = ['Sex',\n",
        "                 'HasPartner',\n",
        "                  'HasChild',\n",
        "                  'HasPhoneService',\n",
        "                  'IsBillingPaperless' \n",
        "]\n",
        "\n",
        "data1[false_cat_cols] = data1[false_cat_cols].replace(patterns)\n",
        "data2[false_cat_cols] = data2[false_cat_cols].replace(patterns)\n",
        "X_train = data1.drop('Churn', axis=1)\n",
        "y_train = data1['Churn']\n",
        "X_test = data2\n",
        "data = pd.concat([X_train, y_train], axis=1)\n",
        "sns.heatmap(data.corr(),\n",
        "            annot=True,\n",
        "            cmap=\"coolwarm\",\n",
        "            center=0,\n",
        "            ax=plt.subplots(figsize=(15,10))[1]);"
      ],
      "execution_count": null,
      "outputs": [
        {
          "output_type": "display_data",
          "data": {
            "text/plain": [
              "<Figure size 1080x720 with 2 Axes>"
            ],
            "image/png": "[encoded data removed]"
          },
          "metadata": {
            "needs_background": "light"
          }
        }
      ]
    },
    {
      "cell_type": "markdown",
      "source": [
        "Переобозначим колонки в списках"
      ],
      "metadata": {
        "id": "Oyzo7tmgSI1S"
      }
    },
    {
      "cell_type": "code",
      "source": [
        "num_cols = [\n",
        "    'ClientPeriod',\n",
        "    'MonthlySpending',\n",
        "    'TotalSpent',\n",
        "    'Sex',\n",
        "    'IsSeniorCitizen',\n",
        "    'HasPartner',\n",
        "    'HasChild',\n",
        "    'HasPhoneService',\n",
        "    'IsBillingPaperless'\n",
        "]\n",
        "\n",
        "cat_cols = ['HasMultiplePhoneNumbers',\n",
        "    'HasInternetService',\n",
        "    'HasOnlineSecurityService',\n",
        "    'HasOnlineBackup',\n",
        "    'HasDeviceProtection',\n",
        "    'HasTechSupportAccess',\n",
        "    'HasOnlineTV',\n",
        "    'HasMovieSubscription',\n",
        "    'HasContractPhone',\n",
        "    'PaymentMethod'\n",
        "]\n",
        "\n",
        "feature_cols = num_cols + cat_cols\n",
        "target_col = 'Churn'"
      ],
      "metadata": {
        "id": "5PeK5VKIO-CL"
      },
      "execution_count": null,
      "outputs": []
    },
    {
      "cell_type": "markdown",
      "metadata": {
        "id": "DviiJd8REEZK"
      },
      "source": [
        "## Применение линейных моделей"
      ]
    },
    {
      "cell_type": "code",
      "metadata": {
        "id": "xHCLDmwqEEZL"
      },
      "source": [
        "from sklearn.linear_model import LogisticRegression, LogisticRegressionCV\n",
        "from sklearn.model_selection import train_test_split, GridSearchCV\n",
        "from sklearn.preprocessing import StandardScaler, RobustScaler, LabelEncoder, OneHotEncoder\n",
        "from sklearn.pipeline import Pipeline"
      ],
      "execution_count": null,
      "outputs": []
    },
    {
      "cell_type": "markdown",
      "source": [
        "***LogisticRegression***\\\n",
        "1) Создадим pipeline с кодированием категориальных и нормировкой числовых данных\\\n",
        "2) Найдем оптимальные параметры через GridSearchCV"
      ],
      "metadata": {
        "id": "KeNNKUOZblUd"
      }
    },
    {
      "cell_type": "code",
      "metadata": {
        "id": "P2Yv3uYtEEZO"
      },
      "source": [
        "from sklearn_pandas import DataFrameMapper\n",
        "from sklearn.preprocessing import OneHotEncoder\n",
        "from sklearn.preprocessing import LabelEncoder\n",
        "mapper = DataFrameMapper(\n",
        "    [(d, LabelEncoder()) for d in cat_cols]\n",
        ")\n",
        "\n",
        "ppl = Pipeline(steps=[(\"mapper\", mapper),\n",
        "                      (\"onehot\", OneHotEncoder()),\n",
        "                      ('scaler', StandardScaler(with_mean=False)),\n",
        "                      ('model', LogisticRegression(fit_intercept=True,\n",
        "                                                   solver = 'saga',\n",
        "                                                   max_iter=1000,\n",
        "                                                   random_state=69)),\n",
        "                      ])\n",
        "grid = {\n",
        "    'model__C': [0.01], #[200, 150, 100, 50, 10, 1, 0.1, 0.01, 0.001],\n",
        "    'model__penalty': ['l2'], #['l1', 'l2'],\n",
        "}\n",
        "\n",
        "grid_search = GridSearchCV(\n",
        "    estimator=ppl,\n",
        "    param_grid= grid,\n",
        "    n_jobs=-1,\n",
        "    scoring='roc_auc',\n",
        "    error_score='raise',\n",
        "    cv=7,\n",
        "    refit=True\n",
        ")\n",
        "Mlogreg = grid_search.fit(X_train,y_train)"
      ],
      "execution_count": null,
      "outputs": []
    },
    {
      "cell_type": "markdown",
      "source": [
        "Лучшие параметры и score "
      ],
      "metadata": {
        "id": "V6YOg-H7X8mv"
      }
    },
    {
      "cell_type": "code",
      "source": [
        "print(Mlogreg.best_score_)\n",
        "print(Mlogreg.best_params_)"
      ],
      "metadata": {
        "id": "tdAkU9y-gqPk",
        "colab": {
          "base_uri": "https://localhost:8080/"
        },
        "outputId": "f0f8937f-c2c9-4e18-d0e9-576c4905743b"
      },
      "execution_count": null,
      "outputs": [
        {
          "output_type": "stream",
          "name": "stdout",
          "text": [
            "0.827339936703667\n",
            "{'model__C': 0.01, 'model__penalty': 'l2'}\n"
          ]
        }
      ]
    },
    {
      "cell_type": "markdown",
      "source": [
        "Сабмит на kaggle"
      ],
      "metadata": {
        "id": "LUaVLczbYB45"
      }
    },
    {
      "cell_type": "code",
      "source": [
        "submission = pd.read_csv('./submission.csv')\n",
        "submission['Churn'] = Mlogreg.predict_proba(X_test)[:, 1]\n",
        "submission.to_csv('./logreg.csv', index = False)"
      ],
      "metadata": {
        "id": "U0QeHSPLhPGP"
      },
      "execution_count": null,
      "outputs": []
    },
    {
      "cell_type": "markdown",
      "metadata": {
        "id": "uVahy6JKEEZQ"
      },
      "source": [
        "Лучшие параметры *LogisticRegression*: \\\n",
        "'C': 0.01\\\n",
        "'model__penalty': 'l2'\\\n",
        "**Score на train'е:** 0.82733\\\n",
        "**Score на test'е** (Kaggle): 0.82530"
      ]
    },
    {
      "cell_type": "markdown",
      "metadata": {
        "id": "BlTeVy7fEEZR"
      },
      "source": [
        "## Применение градиентного бустинга"
      ]
    },
    {
      "cell_type": "code",
      "metadata": {
        "id": "Fioxxlp-EEZS"
      },
      "source": [
        "!pip install catboost\n",
        "import catboost"
      ],
      "execution_count": null,
      "outputs": []
    },
    {
      "cell_type": "markdown",
      "source": [
        "Разобьем выборку и посмотрим на ROC-AUC кривую с стандартными параметрами catboostClassifier"
      ],
      "metadata": {
        "id": "lv3nt5jbYPAr"
      }
    },
    {
      "cell_type": "code",
      "source": [
        "from sklearn.model_selection import train_test_split\n",
        "\n",
        "X_tr, X_t, y_tr,  y_t = train_test_split(X_train, y_train, random_state=69,test_size=0.2)"
      ],
      "metadata": {
        "id": "88u0vPX9O15c"
      },
      "execution_count": null,
      "outputs": []
    },
    {
      "cell_type": "code",
      "source": [
        "boosting_model = catboost.CatBoostClassifier(n_estimators=200,\n",
        "                                             cat_features = cat_cols)\n",
        "boosting_model.fit(X_tr, y_tr, silent = True)\n",
        "\n",
        "y_train_predicted = boosting_model.predict_proba(X_tr)[:, 1]\n",
        "y_test_predicted = boosting_model.predict_proba(X_t)[:, 1]"
      ],
      "metadata": {
        "id": "Wy76-BCRQixa"
      },
      "execution_count": null,
      "outputs": []
    },
    {
      "cell_type": "code",
      "source": [
        "from sklearn.model_selection import KFold\n",
        "from sklearn.metrics import roc_auc_score\n",
        "from tqdm.notebook import tqdm\n",
        "from sklearn.metrics import roc_auc_score, roc_curve\n",
        "\n",
        "train_auc = roc_auc_score(y_tr, y_train_predicted)\n",
        "test_auc = roc_auc_score(y_t, y_test_predicted)\n",
        "\n",
        "plt.figure(figsize=(10,7))\n",
        "plt.plot(*roc_curve(y_tr, y_train_predicted)[:2], label='train AUC={:.4f}'.format(train_auc))\n",
        "plt.plot(*roc_curve(y_t, y_test_predicted)[:2], label='test AUC={:.4f}'.format(test_auc))\n",
        "legend_box = plt.legend(fontsize='large', framealpha=1).get_frame()\n",
        "legend_box.set_facecolor(\"white\")\n",
        "legend_box.set_edgecolor(\"black\")\n",
        "plt.plot(np.linspace(0,1,100), np.linspace(0,1,100))\n",
        "plt.show()"
      ],
      "metadata": {
        "colab": {
          "base_uri": "https://localhost:8080/",
          "height": 428
        },
        "id": "ZpBPLpYTRIBp",
        "outputId": "ee63ee7f-2634-4eee-9b8a-64d60cfe5208"
      },
      "execution_count": null,
      "outputs": [
        {
          "output_type": "display_data",
          "data": {
            "text/plain": [
              "<Figure size 720x504 with 1 Axes>"
            ],
            "image/png": "[encoded data removed]"
          },
          "metadata": {
            "needs_background": "light"
          }
        }
      ]
    },
    {
      "cell_type": "markdown",
      "source": [
        "Попробуем найти оптимальные параметры через GridSearch для catboostclassifier"
      ],
      "metadata": {
        "id": "8B17PstTp56z"
      }
    },
    {
      "cell_type": "code",
      "source": [
        "from catboost import CatBoost\n",
        "Mcatboost = catboost.CatBoostClassifier(cat_features = cat_cols,\n",
        "                                        eval_metric='AUC:hints=skip_train~false',\n",
        "                                        silent = True)\n",
        "\n",
        "grid = {\n",
        "        \"n_estimators\": [60], #[60,100,150,200,250,300], \n",
        "        \"learning_rate\": [0.1], #[0.01,0.05,0.1,0.2],\n",
        "        \"max_depth\": [4], #[3,4,5],  \n",
        "        \"l2_leaf_reg\": [8], #[6,8,10,12],  \n",
        "        }\n",
        "\n",
        "grid_search_result = Mcatboost.grid_search(grid, \n",
        "                                       cv=5,\n",
        "                                       X=X_train, \n",
        "                                       y=y_train,\n",
        "                                       plot=True,\n",
        "                                       refit = True,)\n"
      ],
      "metadata": {
        "id": "uJWhtsBKXK9O"
      },
      "execution_count": null,
      "outputs": []
    },
    {
      "cell_type": "code",
      "source": [
        "print(Mcatboost.best_score_)\n",
        "print(Mcatboost.get_params())"
      ],
      "metadata": {
        "colab": {
          "base_uri": "https://localhost:8080/"
        },
        "id": "HLCEP-smw9yL",
        "outputId": "265a18a7-a895-4cf4-cf9e-bda111d3408c"
      },
      "execution_count": null,
      "outputs": [
        {
          "output_type": "stream",
          "name": "stdout",
          "text": [
            "{'learn': {'Logloss': 0.4054972465831746, 'AUC': 0.8534538239559638}}\n",
            "{'silent': True, 'eval_metric': 'AUC:hints=skip_train~false', 'cat_features': ['HasMultiplePhoneNumbers', 'HasInternetService', 'HasOnlineSecurityService', 'HasOnlineBackup', 'HasDeviceProtection', 'HasTechSupportAccess', 'HasOnlineTV', 'HasMovieSubscription', 'HasContractPhone', 'PaymentMethod'], 'depth': 4, 'l2_leaf_reg': 8, 'iterations': 60, 'learning_rate': 0.1}\n"
          ]
        }
      ]
    },
    {
      "cell_type": "markdown",
      "metadata": {
        "id": "rf4Kjt96EEZU"
      },
      "source": [
        "Лучшие параметры *CatBoost*: \\\n",
        "'depth': 4, \\\n",
        "  'l2_leaf_reg': 8,\\\n",
        "  'iterations': 60,\\\n",
        "  'learning_rate': 0.1\\\n",
        "**Score на train'е:** 0.85345\\\n",
        "**Score на test'е** (Kaggle): 0.84539"
      ]
    },
    {
      "cell_type": "code",
      "source": [
        "submission = pd.read_csv('./submission.csv')\n",
        "submission['Churn'] = Mcatboost.predict_proba(X_test)[:, 1]\n",
        "submission.to_csv('./cat.csv', index = False)"
      ],
      "metadata": {
        "id": "WIV2JJjQvdEk"
      },
      "execution_count": null,
      "outputs": []
    },
    {
      "cell_type": "markdown",
      "source": [
        "## Random Forest и KNN\n"
      ],
      "metadata": {
        "id": "X_ZR-MFmDqoa"
      }
    },
    {
      "cell_type": "markdown",
      "source": [
        "Попробуем другие модели"
      ],
      "metadata": {
        "id": "GxJtjSx3Y9mt"
      }
    },
    {
      "cell_type": "code",
      "source": [
        "from sklearn.ensemble import RandomForestClassifier, StackingClassifier\n",
        "from sklearn.neighbors import KNeighborsClassifier\n",
        "#Random Forest\n",
        "mapper = DataFrameMapper(\n",
        "    [(d, LabelEncoder()) for d in cat_cols]\n",
        ")\n",
        "\n",
        "\n",
        "ppl = Pipeline(steps=[(\"mapper\", mapper),\n",
        "                      (\"onehot\", OneHotEncoder()),\n",
        "                      ('model',RandomForestClassifier(n_estimators=100,\n",
        "                                                      random_state=69)),])\n",
        "\n",
        "grid = {\n",
        "    \"model__min_samples_split\": [2], #range(2,20,2),\n",
        "    \"model__min_samples_leaf\": [18], #range(2,20,2),\n",
        "}\n",
        "\n",
        "grid_search = GridSearchCV(estimator = ppl,\n",
        "                           param_grid=grid,\n",
        "                           scoring=\"roc_auc\",\n",
        "                           cv=5, refit=True, n_jobs=-1)\n",
        "Mrf = grid_search.fit(X_train, y_train)\n",
        "\n",
        "\n"
      ],
      "metadata": {
        "id": "Wx1O1aabD0gR"
      },
      "execution_count": null,
      "outputs": []
    },
    {
      "cell_type": "code",
      "source": [
        "print(Mrf.best_score_)\n",
        "print(Mrf.best_params_)"
      ],
      "metadata": {
        "colab": {
          "base_uri": "https://localhost:8080/"
        },
        "id": "0Q34vjY-4vde",
        "outputId": "b5cb8ef4-8818-4347-d03e-4837cc4a19ce"
      },
      "execution_count": null,
      "outputs": [
        {
          "output_type": "stream",
          "name": "stdout",
          "text": [
            "0.8262977928481432\n",
            "{'model__min_samples_leaf': 18, 'model__min_samples_split': 2}\n"
          ]
        }
      ]
    },
    {
      "cell_type": "code",
      "source": [
        "submission = pd.read_csv('./submission.csv')\n",
        "submission['Churn'] = Mrf.predict_proba(X_test)[:, 1]\n",
        "submission.to_csv('./MRS.csv', index = False)"
      ],
      "metadata": {
        "id": "3n8ZZeDBHEdT"
      },
      "execution_count": null,
      "outputs": []
    },
    {
      "cell_type": "markdown",
      "source": [
        "Лучшие параметры *Random Forest*: \\\n",
        "'min_samples_leaf': 18\\\n",
        "'min_samples_split': 2\\\n",
        "**Score на train'е:** 0.82629\\\n",
        "**Score на test'е** (Kaggle): 0.82255"
      ],
      "metadata": {
        "id": "VnhPVbBEKsrr"
      }
    },
    {
      "cell_type": "code",
      "source": [
        "#KNN\n",
        "mapper = DataFrameMapper(\n",
        "    [(d, LabelEncoder()) for d in cat_cols]\n",
        ")\n",
        "\n",
        "\n",
        "ppl = Pipeline(steps=[(\"mapper\", mapper),\n",
        "                      (\"onehot\", OneHotEncoder()),\n",
        "                      ('scaler', StandardScaler(with_mean=False)),\n",
        "                      ('model',KNeighborsClassifier()),])\n",
        "grid = {\n",
        "    \"model__n_neighbors\": [160], #range(0,161,20),\n",
        "    \"model__metric\": [\"cosine\"], #[\"cityblock\", \"cosine\", \"euclidean\", \"l1\", \"l2\", \"manhattan\"],\n",
        "}\n",
        "grid_search = GridSearchCV(\n",
        "    estimator=ppl,\n",
        "    param_grid=grid,\n",
        "    scoring=\"roc_auc\",\n",
        "    n_jobs=-1,\n",
        "    error_score='raise',\n",
        "    cv=7,\n",
        "    refit=True,\n",
        ")\n",
        "knn = grid_search.fit(X_train, y_train)"
      ],
      "metadata": {
        "id": "ugrZoBh1G_AD"
      },
      "execution_count": null,
      "outputs": []
    },
    {
      "cell_type": "code",
      "source": [
        "print(knn.best_score_)\n",
        "print(knn.best_params_)"
      ],
      "metadata": {
        "colab": {
          "base_uri": "https://localhost:8080/"
        },
        "id": "3diAw-cs1khc",
        "outputId": "16f733de-8a01-4d19-86de-8d07f1700ec7"
      },
      "execution_count": null,
      "outputs": [
        {
          "output_type": "stream",
          "name": "stdout",
          "text": [
            "0.8187039892715161\n",
            "{'model__metric': 'cosine', 'model__n_neighbors': 160}\n"
          ]
        }
      ]
    },
    {
      "cell_type": "code",
      "source": [
        "submission = pd.read_csv('./submission.csv')\n",
        "submission['Churn'] = knn.predict_proba(X_test)[:, 1]\n",
        "submission.to_csv('./KNN.csv', index = False)"
      ],
      "metadata": {
        "id": "bQzjArX6J25V"
      },
      "execution_count": null,
      "outputs": []
    },
    {
      "cell_type": "markdown",
      "source": [
        "Лучшие параметры *KNN*: \\\n",
        "'model__metric': 'cosine' \n",
        "\n",
        "'model__n_neighbors': 160\\\n",
        "**Score на train'е:** 0.81870\\\n",
        "**Score на test'е** (Kaggle): 0.81663"
      ],
      "metadata": {
        "id": "YJ2GOTilLW3b"
      }
    },
    {
      "cell_type": "markdown",
      "metadata": {
        "id": "dDMXbvNZEEZV"
      },
      "source": [
        "# Предсказания"
      ]
    },
    {
      "cell_type": "markdown",
      "source": [
        "Сделаем ансамбль из всех моделей"
      ],
      "metadata": {
        "id": "jvEsZQoPZEKb"
      }
    },
    {
      "cell_type": "code",
      "metadata": {
        "id": "G_P4wFNaEEZW"
      },
      "source": [
        "from catboost import CatBoostClassifier\n",
        "meta = CatBoostClassifier(\n",
        "    logging_level='Silent',\n",
        "    eval_metric=\"AUC:hints=skip_train~false\",\n",
        "    metric_period=1000,\n",
        "    subsample=0.1,\n",
        ")\n",
        "stack = StackingClassifier(\n",
        "    estimators=[\n",
        "        (\"Mlogreg\", Mlogreg),\n",
        "        (\"knn\", knn),\n",
        "        (\"Mrf\", Mrf),\n",
        "        (\"Mcatboost\", Mcatboost),\n",
        "    ],\n",
        "    final_estimator=meta,\n",
        "    n_jobs=-1,\n",
        ")\n",
        "\n",
        "stack.fit(X_train, y_train)"
      ],
      "execution_count": null,
      "outputs": []
    },
    {
      "cell_type": "code",
      "metadata": {
        "id": "FfSufx0CEEZZ"
      },
      "source": [
        "submission = pd.read_csv('./submission.csv')\n",
        "submission['Churn'] = stack.predict_proba(X_test)[:, 1]\n",
        "submission.to_csv('/content/drive/MyDrive/final_paiphs.csv', index = False)"
      ],
      "execution_count": null,
      "outputs": []
    },
    {
      "cell_type": "markdown",
      "metadata": {
        "id": "mkxjbGkVEEZc"
      },
      "source": [
        "# **Итоговый результат на kaggle:**\n",
        "![3_churn.png](data:image/png;base64,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)"
      ]
    }
  ]
}